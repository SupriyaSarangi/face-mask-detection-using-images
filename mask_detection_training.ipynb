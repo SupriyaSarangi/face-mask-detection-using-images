{
 "cells": [
  {
   "cell_type": "code",
   "execution_count": null,
   "metadata": {},
   "outputs": [],
   "source": [
    "import os\n",
    "import keras\n",
    "import random\n",
    "import shutil\n",
    "import tensorflow as tf\n",
    "from tensorflow.keras.optimizers import RMSprop\n",
    "from tensorflow.keras.preprocessing.image import ImageDataGenerator\n",
    "from shutil import copyfile\n",
    "from os import getcwd\n",
    "from os import listdir\n",
    "import cv2\n",
    "from tensorflow.keras.layers import Conv2D, Input, ZeroPadding2D, BatchNormalization,Activation, MaxPooling2D, Flatten, Dense\n",
    "from tensorflow.keras.models import Model, load_model\n",
    "from tensorflow.keras.callbacks import TensorBoard, ModelCheckpoint\n",
    "from sklearn.model_selection import train_test_split\n",
    "from sklearn.metrics import f1_score\n",
    "from sklearn.utils import shuffle\n",
    "import imutils\n",
    "import numpy as np\n",
    "import matplotlib.pyplot as plt\n",
    "import matplotlib.image  as mpimg"
   ]
  },
  {
   "cell_type": "code",
   "execution_count": null,
   "metadata": {},
   "outputs": [],
   "source": [
    "#check the number of images being used\n",
    "# number of images in the folder 'with_mask'\n",
    "pos = len(listdir('C:/face_mask/data/with_mask'))\n",
    "# number of images that are in the the folder named 'without_mask' \n",
    "neg = len(listdir('C:/face_mask/data/without_mask'))\n",
    "# number of all examples\n",
    "m = (pos+neg)\n",
    "#precision check\n",
    "pos_prec = (pos* 100.0)/ m\n",
    "neg_prec = (neg* 100.0)/ m\n",
    "print(f\"Number of examples: {m}\")\n",
    "print(f\"Percentage of positive examples: {pos_prec}%, number of pos examples: {pos}\") \n",
    "print(f\"Percentage of negative examples: {neg_prec}%, number of neg examples: {neg}\")    \n",
    "    \n",
    "print(len(listdir('C:/face_mask/data/with_mask')))"
   ]
  },
  {
   "cell_type": "code",
   "execution_count": null,
   "metadata": {},
   "outputs": [],
   "source": [
    "#splitting the given dataset into train and test dataset\n",
    "def split_data(SOURCE, TRAINING, TESTING, SPLIT_SIZE):\n",
    "    dataset = []  \n",
    "    for unidata in os.listdir(SOURCE):\n",
    "        #adding all the images respectively with and without mask for splitting\n",
    "        data = SOURCE + unidata\n",
    "        if(os.path.getsize(data) > 0):\n",
    "            dataset.append(unidata)\n",
    "        else:\n",
    "            print('Skipped ' + uniData)\n",
    "            print('Invalid file i.e zero size')  \n",
    "    train_length = int(len(dataset) * SPLIT_SIZE)\n",
    "    print(train_length)\n",
    "    test_length = int(len(dataset) - train_length)\n",
    "    print(test_length)\n",
    "    shuffled_set = random.sample(dataset, len(dataset))\n",
    "    train_set = dataset[0:train_length]\n",
    "    test_set = dataset[-test_length:]     \n",
    "    for uniData in train_set:\n",
    "        temp_train = SOURCE + uniData\n",
    "        final_train = TRAINING + uniData\n",
    "        copyfile(temp_train, final_train) \n",
    "    \n",
    "    for uniData in test_set:\n",
    "        temp_test = SOURCE + uniData\n",
    "        final_test = TESTING + uniData\n",
    "        copyfile(temp_test, final_test)  \n",
    "\n",
    "withmask_dir = \"C:/face_mask/data/with_mask/\"\n",
    "training_withmask_dir = \"C:/face_mask/train_test/train/with_mask/\"\n",
    "testing_withmask_dir = \"C:/face_mask/train_test/test/with_mask/\"\n",
    "withoutmask_dir = \"C:/face_mask/data/without_mask/\"\n",
    "training_withoutmask_dir = \"C:/face_mask/train_test/train/without_mask/\"\n",
    "testing_withoutmask_dir = \"C:/face_mask/train_test/test/without_mask/\"\n",
    "\n",
    "\n"
   ]
  },
  {
   "cell_type": "code",
   "execution_count": null,
   "metadata": {},
   "outputs": [],
   "source": [
    "\n",
    "split_size = .8\n",
    "split_data(withmask_dir, training_withmask_dir, testing_withmask_dir, split_size)\n",
    "split_data(withoutmask_dir, training_withoutmask_dir, testing_withoutmask_dir, split_size)"
   ]
  },
  {
   "cell_type": "code",
   "execution_count": null,
   "metadata": {},
   "outputs": [],
   "source": [
    "print(\"number of images with mask in the folder 'with_mask':\", len(os.listdir('C://face_mask//train_test//train//with_mask')))\n",
    "print(\"number of images with mask in the folder 'with_mask':\", len(os.listdir('C://face_mask//train_test//test//with_mask')))\n",
    "print(\"number of images without mask in the folder 'without_mask':\", len(os.listdir('C://face_mask//train_test//train//without_mask')))\n",
    "print(\"number of images without mask in the folder 'without_mask':\",len(os.listdir('C://face_mask//train_test//test//without_mask')))"
   ]
  },
  {
   "cell_type": "code",
   "execution_count": null,
   "metadata": {},
   "outputs": [],
   "source": [
    "#CNN model is created\n",
    "model = tf.keras.models.Sequential([tf.keras.layers.Conv2D(100, (3,3), activation='relu', input_shape=(150, 150, 3)),\n",
    "                                    tf.keras.layers.MaxPooling2D(2,2),\n",
    "                                    tf.keras.layers.Conv2D(100, (3,3), activation='relu'),\n",
    "                                    tf.keras.layers.MaxPooling2D(2,2),\n",
    "                                    tf.keras.layers.Flatten(),\n",
    "                                    tf.keras.layers.Dropout(0.5),\n",
    "                                    tf.keras.layers.Dense(50, activation='relu'),\n",
    "                                    tf.keras.layers.Dense(2, activation='softmax')])\n",
    "\n",
    "model.compile(optimizer='adam', loss='binary_crossentropy', metrics=['accuracy'])"
   ]
  },
  {
   "cell_type": "code",
   "execution_count": null,
   "metadata": {},
   "outputs": [],
   "source": [
    "#ImageDataGenerator to create new set of images with same dimensions using rescale and resize\n",
    "training_dir = \"C:/face_mask/train_test/train\"\n",
    "new_train_data = ImageDataGenerator(rescale=1.0/255,rotation_range=40, width_shift_range=0.2, height_shift_range=0.2,\n",
    "                                   shear_range=0.2, zoom_range=0.2, horizontal_flip=True,fill_mode='nearest')\n",
    "train_generator = new_train_data.flow_from_directory(training_dir, batch_size=10, target_size=(150, 150))\n",
    "\n",
    "validation_dir = \"C:/face_mask/train_test/test\"\n",
    "validation_datagen = ImageDataGenerator(rescale=1.0/255)\n",
    "validation_generator = validation_datagen.flow_from_directory(validation_dir, batch_size=10,target_size=(150, 150))\n",
    "checkpoint = ModelCheckpoint('model-{epoch:03d}.model',monitor='val_loss',verbose=0,save_best_only=True,mode='auto')"
   ]
  },
  {
   "cell_type": "code",
   "execution_count": null,
   "metadata": {},
   "outputs": [],
   "source": [
    "#training the data \n",
    "history = model.fit_generator(train_generator, epochs=30, validation_data=validation_generator, callbacks=[checkpoint])\n",
    "model.save('my_model_facemask.h5')"
   ]
  },
  {
   "cell_type": "code",
   "execution_count": null,
   "metadata": {},
   "outputs": [],
   "source": []
  }
 ],
 "metadata": {
  "kernelspec": {
   "display_name": "Python 3",
   "language": "python",
   "name": "python3"
  },
  "language_info": {
   "codemirror_mode": {
    "name": "ipython",
    "version": 3
   },
   "file_extension": ".py",
   "mimetype": "text/x-python",
   "name": "python",
   "nbconvert_exporter": "python",
   "pygments_lexer": "ipython3",
   "version": "3.7.1"
  }
 },
 "nbformat": 4,
 "nbformat_minor": 4
}
